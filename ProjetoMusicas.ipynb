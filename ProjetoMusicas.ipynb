{
 "cells": [
  {
   "cell_type": "markdown",
   "metadata": {},
   "source": [
    "# Contexto\n",
    "\n",
    "- A ideia é pegar uma lista de músicas que está dentro de um excel\n",
    "- Copiar o nome da música que estará dentro de uma coluna ( dentro de um for, provavelmente )\n",
    "- Colar na aba de pesquisa do youtube e dar enter.\n",
    "- Ver se é possível navegar para o vídeo a partir desta busca ( esperamos que sim! )\n",
    "- Quando o vídeo carregar, utilizar o comando --> driver.current_url ( \"Fazer testes antes para ver se ele será útil \")"
   ]
  },
  {
   "cell_type": "markdown",
   "metadata": {},
   "source": [
    "## Parte do arquivo Excel\n"
   ]
  },
  {
   "cell_type": "markdown",
   "metadata": {},
   "source": [
    "### Importando biliotecas necessárias"
   ]
  },
  {
   "cell_type": "code",
   "execution_count": 25,
   "metadata": {},
   "outputs": [],
   "source": [
    "import pandas as pd \n",
    "## Poderia utilizar outras bibliotecas, porém, o pandas foi a mais simples de utilizar, já que posso iterar pelas linhas da tabela"
   ]
  },
  {
   "cell_type": "code",
   "execution_count": 26,
   "metadata": {},
   "outputs": [],
   "source": [
    "#Criando uma variável para armazenar o caminho do arquivo.\n",
    "musicas_file = r'C:\\Users\\trevi\\OneDrive\\Python Scripts\\Docs_ToUse\\ListaMusicasMarcao.xlsx'"
   ]
  },
  {
   "cell_type": "code",
   "execution_count": 27,
   "metadata": {},
   "outputs": [],
   "source": [
    "musicas = pd.read_excel(musicas_file)"
   ]
  },
  {
   "cell_type": "code",
   "execution_count": 28,
   "metadata": {},
   "outputs": [],
   "source": [
    "def copia_cola():\n",
    "    for indice in musicas.iterrows(): ## Aqui para cada\n",
    "        print(musicas['Música'][indice[0]])"
   ]
  },
  {
   "cell_type": "markdown",
   "metadata": {},
   "source": [
    "## Iniciando o Navegador"
   ]
  },
  {
   "cell_type": "code",
   "execution_count": 29,
   "metadata": {},
   "outputs": [],
   "source": [
    "from selenium import webdriver\n",
    "from selenium.webdriver.chrome.service import Service\n",
    "from selenium.webdriver.common.by import By\n",
    "from selenium.webdriver.support.ui import WebDriverWait\n",
    "from selenium.webdriver.support import expected_conditions as EC\n",
    "from webdriver_manager.chrome import ChromeDriverManager"
   ]
  },
  {
   "cell_type": "code",
   "execution_count": 30,
   "metadata": {},
   "outputs": [],
   "source": [
    "url = \"https://www.youtube.com/\""
   ]
  },
  {
   "cell_type": "code",
   "execution_count": 31,
   "metadata": {},
   "outputs": [],
   "source": [
    "chrome_options = webdriver.ChromeOptions() ## DAR UMA OLHADA NA DOCUMENTAÇÃO PARA EXPLORAR MAIS AS OPÇÕES POSSÍVEIS\n",
    "chrome_options.add_argument('--start-maximized')\n",
    "service = Service(ChromeDriverManager().install())"
   ]
  },
  {
   "cell_type": "code",
   "execution_count": 44,
   "metadata": {},
   "outputs": [],
   "source": [
    "driver = webdriver.Chrome(service=service, options=chrome_options )\n",
    "driver.get(url)\n",
    "barra_pesquisa = driver.find_elements(By.XPATH, '/html/body/ytd-app/div[1]/div[2]/ytd-masthead/div[4]/div[2]/ytd-searchbox/form/div[1]')\n",
    "barra_pesquisa[0].click()"
   ]
  },
  {
   "cell_type": "code",
   "execution_count": 46,
   "metadata": {},
   "outputs": [],
   "source": [
    "from numpy import random as r ## Explicação abaixo do porque importei essa biblioteca específica. Essa biblioteca é temporária"
   ]
  },
  {
   "cell_type": "code",
   "execution_count": 45,
   "metadata": {},
   "outputs": [
    {
     "data": {
      "text/plain": [
       "'Credençal'"
      ]
     },
     "execution_count": 45,
     "metadata": {},
     "output_type": "execute_result"
    }
   ],
   "source": [
    "#Vamos testar com um exemplo da lista de músicas, para ver se conseguimos pesquisar ela no youtube:\n",
    "musica_teste = musicas['Música'][r.randint(low=0, high = len(musicas['Música']))] #Pegando uma música aleatória da lista completa\n",
    "musica_teste"
   ]
  },
  {
   "cell_type": "code",
   "execution_count": null,
   "metadata": {},
   "outputs": [],
   "source": []
  }
 ],
 "metadata": {
  "kernelspec": {
   "display_name": "Python 3",
   "language": "python",
   "name": "python3"
  },
  "language_info": {
   "codemirror_mode": {
    "name": "ipython",
    "version": 3
   },
   "file_extension": ".py",
   "mimetype": "text/x-python",
   "name": "python",
   "nbconvert_exporter": "python",
   "pygments_lexer": "ipython3",
   "version": "3.13.0"
  }
 },
 "nbformat": 4,
 "nbformat_minor": 2
}
